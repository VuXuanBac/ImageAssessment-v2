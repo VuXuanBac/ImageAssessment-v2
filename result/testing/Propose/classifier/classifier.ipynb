{
 "cells": [
  {
   "cell_type": "code",
   "execution_count": 1,
   "metadata": {},
   "outputs": [],
   "source": [
    "import utils\n",
    "import pandas as pd"
   ]
  },
  {
   "cell_type": "code",
   "execution_count": 13,
   "metadata": {},
   "outputs": [],
   "source": [
    "def classify_accuracy(file):\n",
    "    data = pd.read_csv(file, header=None)\n",
    "    count = 0\n",
    "    not_good = []\n",
    "    good = []\n",
    "    for row in data.iloc:\n",
    "        if int(row[1:4].idxmax()) - 1 == int(row[4]):\n",
    "            count += 1\n",
    "            good.append(row[0])\n",
    "        else:\n",
    "            not_good.append(row[0])\n",
    "    print(f\"Accuracy: {count * 100 / len(data):.3f} %\")\n",
    "    return good, not_good"
   ]
  },
  {
   "cell_type": "code",
   "execution_count": 17,
   "metadata": {},
   "outputs": [
    {
     "name": "stdout",
     "output_type": "stream",
     "text": [
      "Accuracy: 83.281 %\n",
      "2143\n"
     ]
    }
   ],
   "source": [
    "good, not_good = classify_accuracy(\"./t2_classifier_v2-epoch_4.csv\")\n",
    "print(len(not_good))"
   ]
  },
  {
   "cell_type": "code",
   "execution_count": 18,
   "metadata": {},
   "outputs": [
    {
     "name": "stdout",
     "output_type": "stream",
     "text": [
      "Accuracy: 83.937 %\n",
      "2059\n"
     ]
    }
   ],
   "source": [
    "good, not_good = classify_accuracy(\"./t2_classifier_v3-epoch_7.csv\")\n",
    "print(len(not_good))"
   ]
  }
 ],
 "metadata": {
  "kernelspec": {
   "display_name": "PyTorch",
   "language": "python",
   "name": "python3"
  },
  "language_info": {
   "codemirror_mode": {
    "name": "ipython",
    "version": 3
   },
   "file_extension": ".py",
   "mimetype": "text/x-python",
   "name": "python",
   "nbconvert_exporter": "python",
   "pygments_lexer": "ipython3",
   "version": "3.10.7"
  },
  "orig_nbformat": 4
 },
 "nbformat": 4,
 "nbformat_minor": 2
}
